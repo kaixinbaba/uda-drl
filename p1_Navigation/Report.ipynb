{
 "cells": [
  {
   "cell_type": "markdown",
   "metadata": {},
   "source": [
    "# Navigation\n",
    "\n",
    "---\n",
    "\n",
    "In this notebook, you will learn how to use the Unity ML-Agents environment for the first project of the [Deep Reinforcement Learning Nanodegree](https://www.udacity.com/course/deep-reinforcement-learning-nanodegree--nd893).\n",
    "\n",
    "### 1. Start the Environment\n",
    "\n",
    "We begin by importing some necessary packages.  If the code cell below returns an error, please revisit the project instructions to double-check that you have installed [Unity ML-Agents](https://github.com/Unity-Technologies/ml-agents/blob/master/docs/Installation.md) and [NumPy](http://www.numpy.org/)."
   ]
  },
  {
   "cell_type": "code",
   "execution_count": 1,
   "metadata": {},
   "outputs": [],
   "source": [
    "from unityagents import UnityEnvironment\n",
    "import numpy as np\n",
    "import platform\n",
    "import os\n",
    "\n",
    "osname = platform.system()\n",
    "%matplotlib inline"
   ]
  },
  {
   "cell_type": "code",
   "execution_count": 2,
   "metadata": {},
   "outputs": [
    {
     "data": {
      "text/plain": [
       "False"
      ]
     },
     "execution_count": 2,
     "metadata": {},
     "output_type": "execute_result"
    }
   ],
   "source": [
    "import torch\n",
    "\n",
    "torch.cuda.is_available()"
   ]
  },
  {
   "cell_type": "code",
   "execution_count": 3,
   "metadata": {},
   "outputs": [
    {
     "name": "stdout",
     "output_type": "stream",
     "text": [
      "Darwin\n"
     ]
    }
   ],
   "source": [
    "print(osname)"
   ]
  },
  {
   "cell_type": "markdown",
   "metadata": {},
   "source": [
    "Next, we will start the environment!  **_Before running the code cell below_**, change the `file_name` parameter to match the location of the Unity environment that you downloaded.\n",
    "\n",
    "- **Mac**: `\"path/to/Banana.app\"`\n",
    "- **Windows** (x86): `\"path/to/Banana_Windows_x86/Banana.exe\"`\n",
    "- **Windows** (x86_64): `\"path/to/Banana_Windows_x86_64/Banana.exe\"`\n",
    "- **Linux** (x86): `\"path/to/Banana_Linux/Banana.x86\"`\n",
    "- **Linux** (x86_64): `\"path/to/Banana_Linux/Banana.x86_64\"`\n",
    "- **Linux** (x86, headless): `\"path/to/Banana_Linux_NoVis/Banana.x86\"`\n",
    "- **Linux** (x86_64, headless): `\"path/to/Banana_Linux_NoVis/Banana.x86_64\"`\n",
    "\n",
    "For instance, if you are using a Mac, then you downloaded `Banana.app`.  If this file is in the same folder as the notebook, then the line below should appear as follows:\n",
    "```\n",
    "env = UnityEnvironment(file_name=\"Banana.app\")\n",
    "```"
   ]
  },
  {
   "cell_type": "code",
   "execution_count": 4,
   "metadata": {},
   "outputs": [
    {
     "name": "stderr",
     "output_type": "stream",
     "text": [
      "INFO:unityagents:\n",
      "'Academy' started successfully!\n",
      "Unity Academy name: Academy\n",
      "        Number of Brains: 1\n",
      "        Number of External Brains : 1\n",
      "        Lesson number : 0\n",
      "        Reset Parameters :\n",
      "\t\t\n",
      "Unity brain name: BananaBrain\n",
      "        Number of Visual Observations (per agent): 0\n",
      "        Vector Observation space type: continuous\n",
      "        Vector Observation space size (per agent): 37\n",
      "        Number of stacked Vector Observation: 1\n",
      "        Vector Action space type: discrete\n",
      "        Vector Action space size (per agent): 4\n",
      "        Vector Action descriptions: , , , \n"
     ]
    }
   ],
   "source": [
    "if osname == 'Darwin':\n",
    "    env = UnityEnvironment(file_name=\"Banana.app\")\n",
    "else:\n",
    "    env = UnityEnvironment(file_name=\"Banana_Linux_NoVis/Banana.x86_64\")"
   ]
  },
  {
   "cell_type": "markdown",
   "metadata": {},
   "source": [
    "Environments contain **_brains_** which are responsible for deciding the actions of their associated agents. Here we check for the first brain available, and set it as the default brain we will be controlling from Python."
   ]
  },
  {
   "cell_type": "code",
   "execution_count": 5,
   "metadata": {},
   "outputs": [],
   "source": [
    "# get the default brain\n",
    "brain_name = env.brain_names[0]\n",
    "brain = env.brains[brain_name]"
   ]
  },
  {
   "cell_type": "markdown",
   "metadata": {},
   "source": [
    "### 2. Examine the State and Action Spaces\n",
    "\n",
    "The simulation contains a single agent that navigates a large environment.  At each time step, it has four actions at its disposal:\n",
    "- `0` - walk forward \n",
    "- `1` - walk backward\n",
    "- `2` - turn left\n",
    "- `3` - turn right\n",
    "\n",
    "The state space has `37` dimensions and contains the agent's velocity, along with ray-based perception of objects around agent's forward direction.  A reward of `+1` is provided for collecting a yellow banana, and a reward of `-1` is provided for collecting a blue banana. \n",
    "\n",
    "Run the code cell below to print some information about the environment."
   ]
  },
  {
   "cell_type": "code",
   "execution_count": 6,
   "metadata": {},
   "outputs": [
    {
     "name": "stdout",
     "output_type": "stream",
     "text": [
      "Number of agents: 1\n",
      "Number of actions: 4\n",
      "States look like: [1.         0.         0.         0.         0.84408134 0.\n",
      " 0.         1.         0.         0.0748472  0.         1.\n",
      " 0.         0.         0.25755    1.         0.         0.\n",
      " 0.         0.74177343 0.         1.         0.         0.\n",
      " 0.25854847 0.         0.         1.         0.         0.09355672\n",
      " 0.         1.         0.         0.         0.31969345 0.\n",
      " 0.        ]\n",
      "States have length: 37\n"
     ]
    }
   ],
   "source": [
    "# reset the environment\n",
    "env_info = env.reset(train_mode=True)[brain_name]\n",
    "\n",
    "# number of agents in the environment\n",
    "print('Number of agents:', len(env_info.agents))\n",
    "\n",
    "# number of actions\n",
    "action_size = brain.vector_action_space_size\n",
    "print('Number of actions:', action_size)\n",
    "\n",
    "# examine the state space \n",
    "state = env_info.vector_observations[0]\n",
    "print('States look like:', state)\n",
    "state_size = len(state)\n",
    "print('States have length:', state_size)"
   ]
  },
  {
   "cell_type": "markdown",
   "metadata": {},
   "source": [
    "### 3. Take Random Actions in the Environment\n",
    "\n",
    "In the next code cell, you will learn how to use the Python API to control the agent and receive feedback from the environment.\n",
    "\n",
    "Once this cell is executed, you will watch the agent's performance, if it selects an action (uniformly) at random with each time step.  A window should pop up that allows you to observe the agent, as it moves through the environment.  \n",
    "\n",
    "Of course, as part of the project, you'll have to change the code so that the agent is able to use its experience to gradually choose better actions when interacting with the environment!"
   ]
  },
  {
   "cell_type": "markdown",
   "metadata": {},
   "source": [
    "When finished, you can close the environment."
   ]
  },
  {
   "cell_type": "code",
   "execution_count": 7,
   "metadata": {},
   "outputs": [],
   "source": [
    "from agents import Agent\n",
    "from models import Net\n",
    "from compat import *\n",
    "from memory import Memory"
   ]
  },
  {
   "cell_type": "code",
   "execution_count": 8,
   "metadata": {},
   "outputs": [],
   "source": [
    "from tqdm import tqdm\n",
    "import matplotlib.pyplot as plt\n",
    "import numpy as np"
   ]
  },
  {
   "cell_type": "code",
   "execution_count": 10,
   "metadata": {},
   "outputs": [],
   "source": [
    "def main_train(save_name,\n",
    "              n_s=state_size,\n",
    "              n_a=action_size,\n",
    "              episode=50,\n",
    "              hiddens=(128,64),\n",
    "              epsilon=1.0,\n",
    "              epsilon_min=0.0,\n",
    "              epsilon_decay=0.995,\n",
    "              gamma=0.99,\n",
    "              batch_size=64,\n",
    "              memory_capacity=3000,\n",
    "              lr=0.001,\n",
    "              is_dueling=True,\n",
    "              is_prioritize=True,\n",
    "              replace_iter=10,\n",
    "              is_soft=False,\n",
    "              tau=0.01,\n",
    "              e=0.01,\n",
    "              a=0.6,\n",
    "              b=0.4,last_100=False):\n",
    "    scores = []\n",
    "    avg_score = []\n",
    "    n_s = state_size\n",
    "    n_a = action_size\n",
    "    agent = Agent(n_s,\n",
    "                  n_a,\n",
    "                  hiddens=hiddens,\n",
    "                  epsilon=epsilon,\n",
    "                  epsilon_min=epsilon_min,\n",
    "                  epsilon_decay=epsilon_decay,\n",
    "                  gamma=gamma,\n",
    "                  batch_size=batch_size,\n",
    "                  memory_capacity=memory_capacity,\n",
    "                  lr=lr,\n",
    "                  is_dueling=is_dueling,\n",
    "                  is_prioritize=is_prioritize,\n",
    "                  replace_iter=replace_iter,\n",
    "                  is_soft=is_soft,\n",
    "                  tau=tau,\n",
    "                  e=e,\n",
    "                  a=a,\n",
    "                  b=b)\n",
    "    for e in tqdm(range(episode)):\n",
    "        env_info = env.reset(train_mode=True)[brain_name] # reset the environment\n",
    "        state = env_info.vector_observations[0]            # get the current state\n",
    "        score = 0                                          # initialize the score\n",
    "        step = 0\n",
    "        while True:\n",
    "    #     while step < MAX_STEP:\n",
    "            action = agent.act(state)\n",
    "            env_info = env.step(action)[brain_name]        # send the action to the environment\n",
    "            next_state = env_info.vector_observations[0]   # get the next state\n",
    "            reward = env_info.rewards[0]                   # get the reward\n",
    "            done = env_info.local_done[0]                  # see if episode has finished\n",
    "\n",
    "            agent.step(state, action, reward, next_state, done)\n",
    "\n",
    "            score += reward                                # update the score\n",
    "            if done:                                       # exit loop if episode finished\n",
    "                break\n",
    "            state = next_state                             # roll over the state to next time step\n",
    "            step += 1\n",
    "\n",
    "\n",
    "        scores.append(score)\n",
    "        if last_100:\n",
    "            if len(scores) < 100:\n",
    "                avg = np.mean(scores)\n",
    "            else:\n",
    "                avg = np.mean(scores[-100:])\n",
    "        else:\n",
    "            avg = np.mean(scores)\n",
    "        avg_score.append(avg)\n",
    "    name = \"model_{save_name}_{mean}\".format(\n",
    "        save_name=save_name,\n",
    "        mean=avg\n",
    "    )\n",
    "    if not os.path.exists(name):\n",
    "        os.mkdir(name)\n",
    "    \n",
    "    try:        \n",
    "        plt.xlabel('episode')\n",
    "        plt.ylabel('reward')\n",
    "        plt.title('mean_reward')\n",
    "        plt.plot(range(len(avg_score)), avg_score)\n",
    "        plt.savefig('{name}/{name}.jpg'.format(name=name))\n",
    "    except:\n",
    "        print(scores)\n",
    "    agent.save('{name}/{name}.pt'.format(\n",
    "        name=name\n",
    "    ))"
   ]
  },
  {
   "cell_type": "markdown",
   "metadata": {},
   "source": [
    "### My understanding of DQN\n",
    "1. DQN use two Neural Networks， one I called eval_net, other is target_net and a replay_buffer to store the memory\n",
    "2. The target_net's weight data is not update in every episode, it is synced from eval_net every **C** step\n",
    "3. Using replaybuffer can break the association between memories and the memory can reuse\n",
    "4. The agent selects an action from **eval_net** using the **e-greedy** policy when interacting with the environment.\n",
    "5. But when learning, agent use the **greedy** policy to get the expected reward for the next state from **target_net**.\n",
    "6. It is the above characteristics that make DQN competent for more complex tasks.\n"
   ]
  },
  {
   "cell_type": "markdown",
   "metadata": {},
   "source": [
    "### About Model\n",
    "The algorithm I used this time is DoubleDQN.\n",
    "\n",
    "The original DQN uses fix target and replaybuffer, while Double DQN avoids overestimation by selecting the action index of Eval net when updating values.\n",
    "\n",
    "The overall algorithm flow is as follows:\n",
    "\n",
    "1. Get the input state of the environment\n",
    "\n",
    "2. Agent chooses actions through Eval net and e-greedy policies\n",
    "\n",
    "3. Interacting with selected actions and environments\n",
    "\n",
    "4. Environment returns to the next state and rewards\n",
    "\n",
    "5. Store the current state, action, reward, and next state in the memory bank.\n",
    "\n",
    "6. When the memory storage exceeds a certain amount, batch size memory is selected from the memory by random sampling for learning.\n",
    "\n",
    "7. The update adopts double DQN algorithm. The target_value is the largest action index obtained from the next state in eval_net. The index is used to acquire specific Q values from target_net for learning, and the Q values of the current state obtained from eval_net for error calculation and reverse propagation.\n",
    "\n",
    "8. The get Q_target formula is:\n",
    "![Alt text](https://upload-images.jianshu.io/upload_images/4155986-fe9db451ace25e85.png)\n",
    "9. The loss formula is :\n",
    "![Alt text](https://upload-images.jianshu.io/upload_images/4155986-03f9734450028881)"
   ]
  },
  {
   "cell_type": "code",
   "execution_count": null,
   "metadata": {},
   "outputs": [],
   "source": []
  },
  {
   "cell_type": "code",
   "execution_count": 11,
   "metadata": {},
   "outputs": [
    {
     "name": "stderr",
     "output_type": "stream",
     "text": [
      "\r",
      "  0%|          | 0/1800 [00:00<?, ?it/s]"
     ]
    },
    {
     "name": "stdout",
     "output_type": "stream",
     "text": [
      "Use CPU traning!\n"
     ]
    },
    {
     "name": "stderr",
     "output_type": "stream",
     "text": [
      "100%|██████████| 1800/1800 [38:46<00:00,  1.20s/it]\n"
     ]
    },
    {
     "data": {
      "image/png": "[encoded data removed]",
      "text/plain": [
       "<Figure size 432x288 with 1 Axes>"
      ]
     },
     "metadata": {
      "needs_background": "light"
     },
     "output_type": "display_data"
    }
   ],
   "source": [
    "print('Use GPU training!' if use_gpu else 'Use CPU traning!')\n",
    "\n",
    "try:            \n",
    "    main_train('model',\n",
    "          n_s=state_size,\n",
    "          n_a=action_size,\n",
    "          episode=1800,              # train 1800 episode\n",
    "          hiddens=(128,64),          # 2 hidden layers\n",
    "          epsilon=1.0,               # Initial epsilon\n",
    "          epsilon_min=0.001,         # min epsilon\n",
    "          epsilon_decay=0.99,        # every learn step epsilon decay rate\n",
    "          gamma=0.99,                # discount\n",
    "          batch_size=32,             # take memory from replay buffer mini-batch size\n",
    "          memory_capacity=3000,      # replay buffer size\n",
    "          lr=0.001,                  # learning rate\n",
    "          is_dueling=False,          # not using dueling\n",
    "          is_prioritize=False,       # not using prioritize replay buffer\n",
    "          replace_iter=10,           # every 10 step, target_net sync weights from eval_net \n",
    "          is_soft=False,             # not soft_update, using tau update 1% weights\n",
    "          tau=0.01,                  # unuse\n",
    "          e=0.01,                    \n",
    "          a=0.6,\n",
    "          b=0.4,\n",
    "          last_100=True)\n",
    "except Exception as e:\n",
    "    print(e)\n"
   ]
  },
  {
   "cell_type": "code",
   "execution_count": null,
   "metadata": {},
   "outputs": [],
   "source": [
    "env.close()"
   ]
  },
  {
   "cell_type": "markdown",
   "metadata": {},
   "source": [
    "### 4. It's Your Turn!\n",
    "\n",
    "Now it's your turn to train your own agent to solve the environment!  When training the environment, set `train_mode=True`, so that the line for resetting the environment looks like the following:\n",
    "```python\n",
    "env_info = env.reset(train_mode=True)[brain_name]\n",
    "```"
   ]
  },
  {
   "cell_type": "markdown",
   "metadata": {},
   "source": [
    "### About Future\n",
    "I have tried many combinations of hyperparameters, including dueling DQN and prioritized replaybuffer, but the training performance may not be ideal for some reasons. So if I have higher computational power, I will try to challenge directly accepting pixel input to learn model more comprehensively to try various architectures, including adjusting the number of hidden layers, the number of nodes, and so on. Learning rate, replaybuffer size and so on.\n",
    "\n",
    "As well as trying to use these hyperparameters and Dueling DQN and PriritizeReplayBuffer, or even Rainbow algorithm directly."
   ]
  },
  {
   "cell_type": "markdown",
   "metadata": {},
   "source": [
    "### When I last submitted, because the parameters have not been tried a lot, the average reward can only be up to 8, this time I tried various combinations and selected the combination I think is the best. I hope this time I can pass the project."
   ]
  },
  {
   "cell_type": "code",
   "execution_count": null,
   "metadata": {},
   "outputs": [],
   "source": []
  }
 ],
 "metadata": {
  "kernelspec": {
   "display_name": "drlnd",
   "language": "python",
   "name": "drlnd"
  },
  "language_info": {
   "codemirror_mode": {
    "name": "ipython",
    "version": 3
   },
   "file_extension": ".py",
   "mimetype": "text/x-python",
   "name": "python",
   "nbconvert_exporter": "python",
   "pygments_lexer": "ipython3",
   "version": "3.6.7"
  }
 },
 "nbformat": 4,
 "nbformat_minor": 2
}
